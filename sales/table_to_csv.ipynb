{
 "cells": [
  {
   "cell_type": "code",
   "execution_count": 16,
   "id": "7acf7876-4658-40ff-8bc5-8acd37965b48",
   "metadata": {},
   "outputs": [],
   "source": [
    "import pandas as pd\n",
    "import psycopg2\n",#PostgreSQL database adapter for the Python programming
    "\n",
    "db_config = {\n",
    "    'host': 'localhost',\n",
    "    'user': 'postgres',\n",
    "    'password': 'adludio-challenge',\n",
    "    'database': 'adludio'\n",
    "}\n",
    "\n",
    "def convert_table_to_csv(schema_name, table_name, csv_file_name):\n",
    "    conn = psycopg2.connect(**db_config)\n",
    "    cur = conn.cursor()\n",
    "    cur.execute(f\"SELECT * FROM {schema_name}.{table_name}\")\n",
    "    rows = cur.fetchall()\n",
    "    df = pd.DataFrame(rows)\n",
    "    df.to_csv(csv_file_name, index=False, header=False)\n",
    "    conn.close()\n",
    "convert_table_to_csv(\"PUBLIC_staging\", \"sales\", \"transformed.csv\")\n",
    "\n",
    "#if name == \"main\":\n",
    "    \n",
    "    "
   ]
  },
  {
   "cell_type": "code",
   "execution_count": 10,
   "id": "3fed5a39-961d-4e2b-82c8-18f0b47082c2",
   "metadata": {},
   "outputs": [
    {
     "name": "stdout",
     "output_type": "stream",
     "text": [
      "Collecting pandas\n",
      "  Downloading pandas-1.4.1-cp39-cp39-manylinux_2_17_x86_64.manylinux2014_x86_64.whl (11.7 MB)\n",
      "\u001b[K     |████████████████████████████████| 11.7 MB 18.4 MB/s eta 0:00:01\n",
      "\u001b[?25hRequirement already satisfied: numpy>=1.18.5 in /opt/miniconda/lib/python3.9/site-packages (from pandas) (1.22.2)\n",
      "Requirement already satisfied: python-dateutil>=2.8.1 in /opt/miniconda/lib/python3.9/site-packages (from pandas) (2.8.1)\n",
      "Requirement already satisfied: pytz>=2020.1 in /opt/miniconda/lib/python3.9/site-packages (from pandas) (2021.3)\n",
      "Requirement already satisfied: six>=1.5 in /opt/miniconda/lib/python3.9/site-packages (from python-dateutil>=2.8.1->pandas) (1.16.0)\n",
      "Installing collected packages: pandas\n",
      "Successfully installed pandas-1.4.1\n"
     ]
    }
   ],
   "source": [
    "!pip install pandas"
   ]
  },
  {
   "cell_type": "code",
   "execution_count": null,
   "id": "10dce159-84e7-4133-8c43-74224e08dea5",
   "metadata": {},
   "outputs": [],
   "source": []
  }
 ],
 "metadata": {
  "kernelspec": {
   "display_name": "adludio-env",
   "language": "python",
   "name": "adludio-env"
  },
  "language_info": {
   "codemirror_mode": {
    "name": "ipython",
    "version": 3
   },
   "file_extension": ".py",
   "mimetype": "text/x-python",
   "name": "python",
   "nbconvert_exporter": "python",
   "pygments_lexer": "ipython3",
   "version": "3.9.7"
  }
 },
 "nbformat": 4,
 "nbformat_minor": 5
}
